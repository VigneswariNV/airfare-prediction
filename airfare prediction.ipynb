{
 "cells": [
  {
   "cell_type": "markdown",
   "metadata": {},
   "source": [
    "# Imports"
   ]
  },
  {
   "cell_type": "code",
   "execution_count": 1,
   "metadata": {},
   "outputs": [],
   "source": [
    "import pandas as pd\n",
    "import numpy as np\n",
    "import matplotlib.pyplot as plt\n",
    "%matplotlib inline\n",
    "import seaborn as sb"
   ]
  },
  {
   "cell_type": "markdown",
   "metadata": {},
   "source": [
    "# Reading Data"
   ]
  },
  {
   "cell_type": "code",
   "execution_count": 2,
   "metadata": {},
   "outputs": [],
   "source": [
    "data=pd.read_excel(\"D:\\Tonyy\\project\\TRAIN.xlsx\")"
   ]
  },
  {
   "cell_type": "code",
   "execution_count": 3,
   "metadata": {},
   "outputs": [
    {
     "data": {
      "text/html": [
       "<div>\n",
       "<style scoped>\n",
       "    .dataframe tbody tr th:only-of-type {\n",
       "        vertical-align: middle;\n",
       "    }\n",
       "\n",
       "    .dataframe tbody tr th {\n",
       "        vertical-align: top;\n",
       "    }\n",
       "\n",
       "    .dataframe thead th {\n",
       "        text-align: right;\n",
       "    }\n",
       "</style>\n",
       "<table border=\"1\" class=\"dataframe\">\n",
       "  <thead>\n",
       "    <tr style=\"text-align: right;\">\n",
       "      <th></th>\n",
       "      <th>Airline</th>\n",
       "      <th>Date</th>\n",
       "      <th>Departure Station</th>\n",
       "      <th>Arrival Station</th>\n",
       "      <th>Route Map</th>\n",
       "      <th>Departure Time</th>\n",
       "      <th>Arrival Time</th>\n",
       "      <th>Journey Time</th>\n",
       "      <th>Stops</th>\n",
       "      <th>Extra Info</th>\n",
       "      <th>Price</th>\n",
       "    </tr>\n",
       "  </thead>\n",
       "  <tbody>\n",
       "    <tr>\n",
       "      <th>0</th>\n",
       "      <td>IndiGo</td>\n",
       "      <td>24/03/2019</td>\n",
       "      <td>Banglore</td>\n",
       "      <td>New Delhi</td>\n",
       "      <td>BLR → DEL</td>\n",
       "      <td>22:20</td>\n",
       "      <td>01:10 22 Mar</td>\n",
       "      <td>2h 50m</td>\n",
       "      <td>non-stop</td>\n",
       "      <td>No info</td>\n",
       "      <td>3897</td>\n",
       "    </tr>\n",
       "    <tr>\n",
       "      <th>1</th>\n",
       "      <td>Air India</td>\n",
       "      <td>1/05/2019</td>\n",
       "      <td>Kolkata</td>\n",
       "      <td>Banglore</td>\n",
       "      <td>CCU → IXR → BBI → BLR</td>\n",
       "      <td>05:50</td>\n",
       "      <td>13:15</td>\n",
       "      <td>7h 25m</td>\n",
       "      <td>2 stops</td>\n",
       "      <td>No info</td>\n",
       "      <td>7662</td>\n",
       "    </tr>\n",
       "    <tr>\n",
       "      <th>2</th>\n",
       "      <td>Jet Airways</td>\n",
       "      <td>9/06/2019</td>\n",
       "      <td>Delhi</td>\n",
       "      <td>Cochin</td>\n",
       "      <td>DEL → LKO → BOM → COK</td>\n",
       "      <td>09:25</td>\n",
       "      <td>04:25 10 Jun</td>\n",
       "      <td>19h</td>\n",
       "      <td>2 stops</td>\n",
       "      <td>No info</td>\n",
       "      <td>13882</td>\n",
       "    </tr>\n",
       "    <tr>\n",
       "      <th>3</th>\n",
       "      <td>IndiGo</td>\n",
       "      <td>12/05/2019</td>\n",
       "      <td>Kolkata</td>\n",
       "      <td>Banglore</td>\n",
       "      <td>CCU → NAG → BLR</td>\n",
       "      <td>18:05</td>\n",
       "      <td>23:30</td>\n",
       "      <td>5h 25m</td>\n",
       "      <td>1 stop</td>\n",
       "      <td>No info</td>\n",
       "      <td>6218</td>\n",
       "    </tr>\n",
       "    <tr>\n",
       "      <th>4</th>\n",
       "      <td>IndiGo</td>\n",
       "      <td>01/03/2019</td>\n",
       "      <td>Banglore</td>\n",
       "      <td>New Delhi</td>\n",
       "      <td>BLR → NAG → DEL</td>\n",
       "      <td>16:50</td>\n",
       "      <td>21:35</td>\n",
       "      <td>4h 45m</td>\n",
       "      <td>1 stop</td>\n",
       "      <td>No info</td>\n",
       "      <td>13302</td>\n",
       "    </tr>\n",
       "  </tbody>\n",
       "</table>\n",
       "</div>"
      ],
      "text/plain": [
       "       Airline        Date Departure Station Arrival Station  \\\n",
       "0       IndiGo  24/03/2019          Banglore       New Delhi   \n",
       "1    Air India   1/05/2019           Kolkata        Banglore   \n",
       "2  Jet Airways   9/06/2019             Delhi          Cochin   \n",
       "3       IndiGo  12/05/2019           Kolkata        Banglore   \n",
       "4       IndiGo  01/03/2019          Banglore       New Delhi   \n",
       "\n",
       "               Route Map Departure Time  Arrival Time Journey Time     Stops  \\\n",
       "0              BLR → DEL          22:20  01:10 22 Mar       2h 50m  non-stop   \n",
       "1  CCU → IXR → BBI → BLR          05:50         13:15       7h 25m   2 stops   \n",
       "2  DEL → LKO → BOM → COK          09:25  04:25 10 Jun          19h   2 stops   \n",
       "3        CCU → NAG → BLR          18:05         23:30       5h 25m    1 stop   \n",
       "4        BLR → NAG → DEL          16:50         21:35       4h 45m    1 stop   \n",
       "\n",
       "  Extra Info  Price  \n",
       "0    No info   3897  \n",
       "1    No info   7662  \n",
       "2    No info  13882  \n",
       "3    No info   6218  \n",
       "4    No info  13302  "
      ]
     },
     "execution_count": 3,
     "metadata": {},
     "output_type": "execute_result"
    }
   ],
   "source": [
    "data.head()"
   ]
  },
  {
   "cell_type": "code",
   "execution_count": 4,
   "metadata": {},
   "outputs": [
    {
     "name": "stdout",
     "output_type": "stream",
     "text": [
      "<class 'pandas.core.frame.DataFrame'>\n",
      "RangeIndex: 9000 entries, 0 to 8999\n",
      "Data columns (total 11 columns):\n",
      " #   Column             Non-Null Count  Dtype \n",
      "---  ------             --------------  ----- \n",
      " 0   Airline            9000 non-null   object\n",
      " 1   Date               9000 non-null   object\n",
      " 2   Departure Station  9000 non-null   object\n",
      " 3   Arrival Station    9000 non-null   object\n",
      " 4   Route Map          9000 non-null   object\n",
      " 5   Departure Time     9000 non-null   object\n",
      " 6   Arrival Time       9000 non-null   object\n",
      " 7   Journey Time       9000 non-null   object\n",
      " 8   Stops              9000 non-null   object\n",
      " 9   Extra Info         9000 non-null   object\n",
      " 10  Price              9000 non-null   int64 \n",
      "dtypes: int64(1), object(10)\n",
      "memory usage: 773.6+ KB\n"
     ]
    }
   ],
   "source": [
    "data.info() #To if data contains NAN values"
   ]
  },
  {
   "cell_type": "code",
   "execution_count": 5,
   "metadata": {},
   "outputs": [
    {
     "data": {
      "text/html": [
       "<div>\n",
       "<style scoped>\n",
       "    .dataframe tbody tr th:only-of-type {\n",
       "        vertical-align: middle;\n",
       "    }\n",
       "\n",
       "    .dataframe tbody tr th {\n",
       "        vertical-align: top;\n",
       "    }\n",
       "\n",
       "    .dataframe thead th {\n",
       "        text-align: right;\n",
       "    }\n",
       "</style>\n",
       "<table border=\"1\" class=\"dataframe\">\n",
       "  <thead>\n",
       "    <tr style=\"text-align: right;\">\n",
       "      <th></th>\n",
       "      <th>Price</th>\n",
       "    </tr>\n",
       "  </thead>\n",
       "  <tbody>\n",
       "    <tr>\n",
       "      <th>count</th>\n",
       "      <td>9000.000000</td>\n",
       "    </tr>\n",
       "    <tr>\n",
       "      <th>mean</th>\n",
       "      <td>9087.764333</td>\n",
       "    </tr>\n",
       "    <tr>\n",
       "      <th>std</th>\n",
       "      <td>4605.498942</td>\n",
       "    </tr>\n",
       "    <tr>\n",
       "      <th>min</th>\n",
       "      <td>1759.000000</td>\n",
       "    </tr>\n",
       "    <tr>\n",
       "      <th>25%</th>\n",
       "      <td>5228.000000</td>\n",
       "    </tr>\n",
       "    <tr>\n",
       "      <th>50%</th>\n",
       "      <td>8369.000000</td>\n",
       "    </tr>\n",
       "    <tr>\n",
       "      <th>75%</th>\n",
       "      <td>12373.000000</td>\n",
       "    </tr>\n",
       "    <tr>\n",
       "      <th>max</th>\n",
       "      <td>79512.000000</td>\n",
       "    </tr>\n",
       "  </tbody>\n",
       "</table>\n",
       "</div>"
      ],
      "text/plain": [
       "              Price\n",
       "count   9000.000000\n",
       "mean    9087.764333\n",
       "std     4605.498942\n",
       "min     1759.000000\n",
       "25%     5228.000000\n",
       "50%     8369.000000\n",
       "75%    12373.000000\n",
       "max    79512.000000"
      ]
     },
     "execution_count": 5,
     "metadata": {},
     "output_type": "execute_result"
    }
   ],
   "source": [
    "data.describe()"
   ]
  },
  {
   "cell_type": "code",
   "execution_count": 6,
   "metadata": {},
   "outputs": [
    {
     "data": {
      "text/plain": [
       "12"
      ]
     },
     "execution_count": 6,
     "metadata": {},
     "output_type": "execute_result"
    }
   ],
   "source": [
    "data['Airline'].nunique()"
   ]
  },
  {
   "cell_type": "code",
   "execution_count": 7,
   "metadata": {},
   "outputs": [],
   "source": [
    "out=data['Price']"
   ]
  },
  {
   "cell_type": "code",
   "execution_count": 8,
   "metadata": {},
   "outputs": [
    {
     "data": {
      "text/plain": [
       "1236"
      ]
     },
     "execution_count": 8,
     "metadata": {},
     "output_type": "execute_result"
    }
   ],
   "source": [
    "data[\"Arrival Time\"].nunique()"
   ]
  },
  {
   "cell_type": "code",
   "execution_count": 9,
   "metadata": {},
   "outputs": [
    {
     "data": {
      "text/html": [
       "<div>\n",
       "<style scoped>\n",
       "    .dataframe tbody tr th:only-of-type {\n",
       "        vertical-align: middle;\n",
       "    }\n",
       "\n",
       "    .dataframe tbody tr th {\n",
       "        vertical-align: top;\n",
       "    }\n",
       "\n",
       "    .dataframe thead th {\n",
       "        text-align: right;\n",
       "    }\n",
       "</style>\n",
       "<table border=\"1\" class=\"dataframe\">\n",
       "  <thead>\n",
       "    <tr style=\"text-align: right;\">\n",
       "      <th></th>\n",
       "      <th>Airline</th>\n",
       "      <th>Date</th>\n",
       "      <th>Departure Station</th>\n",
       "      <th>Arrival Station</th>\n",
       "      <th>Route Map</th>\n",
       "      <th>Departure Time</th>\n",
       "      <th>Arrival Time</th>\n",
       "      <th>Journey Time</th>\n",
       "      <th>Stops</th>\n",
       "      <th>Extra Info</th>\n",
       "      <th>Price</th>\n",
       "    </tr>\n",
       "  </thead>\n",
       "  <tbody>\n",
       "    <tr>\n",
       "      <th>0</th>\n",
       "      <td>IndiGo</td>\n",
       "      <td>24/03/2019</td>\n",
       "      <td>Banglore</td>\n",
       "      <td>New Delhi</td>\n",
       "      <td>BLR → DEL</td>\n",
       "      <td>22:20</td>\n",
       "      <td>01:10 22 Mar</td>\n",
       "      <td>2h 50m</td>\n",
       "      <td>non-stop</td>\n",
       "      <td>No info</td>\n",
       "      <td>3897</td>\n",
       "    </tr>\n",
       "    <tr>\n",
       "      <th>5</th>\n",
       "      <td>SpiceJet</td>\n",
       "      <td>24/06/2019</td>\n",
       "      <td>Kolkata</td>\n",
       "      <td>Banglore</td>\n",
       "      <td>CCU → BLR</td>\n",
       "      <td>09:00</td>\n",
       "      <td>11:25</td>\n",
       "      <td>2h 25m</td>\n",
       "      <td>non-stop</td>\n",
       "      <td>No info</td>\n",
       "      <td>3873</td>\n",
       "    </tr>\n",
       "    <tr>\n",
       "      <th>11</th>\n",
       "      <td>IndiGo</td>\n",
       "      <td>18/04/2019</td>\n",
       "      <td>Kolkata</td>\n",
       "      <td>Banglore</td>\n",
       "      <td>CCU → BLR</td>\n",
       "      <td>20:20</td>\n",
       "      <td>22:55</td>\n",
       "      <td>2h 35m</td>\n",
       "      <td>non-stop</td>\n",
       "      <td>No info</td>\n",
       "      <td>4174</td>\n",
       "    </tr>\n",
       "    <tr>\n",
       "      <th>12</th>\n",
       "      <td>Air India</td>\n",
       "      <td>24/06/2019</td>\n",
       "      <td>Chennai</td>\n",
       "      <td>Kolkata</td>\n",
       "      <td>MAA → CCU</td>\n",
       "      <td>11:40</td>\n",
       "      <td>13:55</td>\n",
       "      <td>2h 15m</td>\n",
       "      <td>non-stop</td>\n",
       "      <td>No info</td>\n",
       "      <td>4667</td>\n",
       "    </tr>\n",
       "    <tr>\n",
       "      <th>14</th>\n",
       "      <td>IndiGo</td>\n",
       "      <td>24/04/2019</td>\n",
       "      <td>Kolkata</td>\n",
       "      <td>Banglore</td>\n",
       "      <td>CCU → BLR</td>\n",
       "      <td>17:15</td>\n",
       "      <td>19:50</td>\n",
       "      <td>2h 35m</td>\n",
       "      <td>non-stop</td>\n",
       "      <td>No info</td>\n",
       "      <td>4804</td>\n",
       "    </tr>\n",
       "    <tr>\n",
       "      <th>...</th>\n",
       "      <td>...</td>\n",
       "      <td>...</td>\n",
       "      <td>...</td>\n",
       "      <td>...</td>\n",
       "      <td>...</td>\n",
       "      <td>...</td>\n",
       "      <td>...</td>\n",
       "      <td>...</td>\n",
       "      <td>...</td>\n",
       "      <td>...</td>\n",
       "      <td>...</td>\n",
       "    </tr>\n",
       "    <tr>\n",
       "      <th>8991</th>\n",
       "      <td>Jet Airways</td>\n",
       "      <td>6/06/2019</td>\n",
       "      <td>Banglore</td>\n",
       "      <td>Delhi</td>\n",
       "      <td>BLR → DEL</td>\n",
       "      <td>07:10</td>\n",
       "      <td>10:10</td>\n",
       "      <td>3h</td>\n",
       "      <td>non-stop</td>\n",
       "      <td>No info</td>\n",
       "      <td>8016</td>\n",
       "    </tr>\n",
       "    <tr>\n",
       "      <th>8994</th>\n",
       "      <td>IndiGo</td>\n",
       "      <td>3/06/2019</td>\n",
       "      <td>Kolkata</td>\n",
       "      <td>Banglore</td>\n",
       "      <td>CCU → BLR</td>\n",
       "      <td>11:30</td>\n",
       "      <td>14:05</td>\n",
       "      <td>2h 35m</td>\n",
       "      <td>non-stop</td>\n",
       "      <td>No info</td>\n",
       "      <td>4804</td>\n",
       "    </tr>\n",
       "    <tr>\n",
       "      <th>8996</th>\n",
       "      <td>Air India</td>\n",
       "      <td>12/05/2019</td>\n",
       "      <td>Mumbai</td>\n",
       "      <td>Hyderabad</td>\n",
       "      <td>BOM → HYD</td>\n",
       "      <td>06:20</td>\n",
       "      <td>07:40</td>\n",
       "      <td>1h 20m</td>\n",
       "      <td>non-stop</td>\n",
       "      <td>No info</td>\n",
       "      <td>3100</td>\n",
       "    </tr>\n",
       "    <tr>\n",
       "      <th>8997</th>\n",
       "      <td>Jet Airways</td>\n",
       "      <td>15/03/2019</td>\n",
       "      <td>Mumbai</td>\n",
       "      <td>Hyderabad</td>\n",
       "      <td>BOM → HYD</td>\n",
       "      <td>19:35</td>\n",
       "      <td>21:05</td>\n",
       "      <td>1h 30m</td>\n",
       "      <td>non-stop</td>\n",
       "      <td>In-flight meal not included</td>\n",
       "      <td>2759</td>\n",
       "    </tr>\n",
       "    <tr>\n",
       "      <th>8999</th>\n",
       "      <td>Vistara</td>\n",
       "      <td>01/03/2019</td>\n",
       "      <td>Banglore</td>\n",
       "      <td>New Delhi</td>\n",
       "      <td>BLR → DEL</td>\n",
       "      <td>11:30</td>\n",
       "      <td>14:10</td>\n",
       "      <td>2h 40m</td>\n",
       "      <td>non-stop</td>\n",
       "      <td>No info</td>\n",
       "      <td>12648</td>\n",
       "    </tr>\n",
       "  </tbody>\n",
       "</table>\n",
       "<p>2947 rows × 11 columns</p>\n",
       "</div>"
      ],
      "text/plain": [
       "          Airline        Date Departure Station Arrival Station  Route Map  \\\n",
       "0          IndiGo  24/03/2019          Banglore       New Delhi  BLR → DEL   \n",
       "5        SpiceJet  24/06/2019           Kolkata        Banglore  CCU → BLR   \n",
       "11         IndiGo  18/04/2019           Kolkata        Banglore  CCU → BLR   \n",
       "12      Air India  24/06/2019           Chennai         Kolkata  MAA → CCU   \n",
       "14         IndiGo  24/04/2019           Kolkata        Banglore  CCU → BLR   \n",
       "...           ...         ...               ...             ...        ...   \n",
       "8991  Jet Airways   6/06/2019          Banglore           Delhi  BLR → DEL   \n",
       "8994       IndiGo   3/06/2019           Kolkata        Banglore  CCU → BLR   \n",
       "8996    Air India  12/05/2019            Mumbai       Hyderabad  BOM → HYD   \n",
       "8997  Jet Airways  15/03/2019            Mumbai       Hyderabad  BOM → HYD   \n",
       "8999      Vistara  01/03/2019          Banglore       New Delhi  BLR → DEL   \n",
       "\n",
       "     Departure Time  Arrival Time Journey Time     Stops  \\\n",
       "0             22:20  01:10 22 Mar       2h 50m  non-stop   \n",
       "5             09:00         11:25       2h 25m  non-stop   \n",
       "11            20:20         22:55       2h 35m  non-stop   \n",
       "12            11:40         13:55       2h 15m  non-stop   \n",
       "14            17:15         19:50       2h 35m  non-stop   \n",
       "...             ...           ...          ...       ...   \n",
       "8991          07:10         10:10           3h  non-stop   \n",
       "8994          11:30         14:05       2h 35m  non-stop   \n",
       "8996          06:20         07:40       1h 20m  non-stop   \n",
       "8997          19:35         21:05       1h 30m  non-stop   \n",
       "8999          11:30         14:10       2h 40m  non-stop   \n",
       "\n",
       "                       Extra Info  Price  \n",
       "0                         No info   3897  \n",
       "5                         No info   3873  \n",
       "11                        No info   4174  \n",
       "12                        No info   4667  \n",
       "14                        No info   4804  \n",
       "...                           ...    ...  \n",
       "8991                      No info   8016  \n",
       "8994                      No info   4804  \n",
       "8996                      No info   3100  \n",
       "8997  In-flight meal not included   2759  \n",
       "8999                      No info  12648  \n",
       "\n",
       "[2947 rows x 11 columns]"
      ]
     },
     "execution_count": 9,
     "metadata": {},
     "output_type": "execute_result"
    }
   ],
   "source": [
    "data[data[\"Stops\"]=='non-stop']"
   ]
  },
  {
   "cell_type": "code",
   "execution_count": 10,
   "metadata": {},
   "outputs": [],
   "source": [
    "lst=[]\n",
    "for i in data['Stops']:\n",
    "    l=i.split(' ')[0]\n",
    "    lst.append(l)"
   ]
  },
  {
   "cell_type": "code",
   "execution_count": 11,
   "metadata": {},
   "outputs": [],
   "source": [
    "lst1=[0 if i=='non-stop' else int(i) for i in lst]"
   ]
  },
  {
   "cell_type": "code",
   "execution_count": 12,
   "metadata": {},
   "outputs": [],
   "source": [
    "data['stops']=lst1"
   ]
  },
  {
   "cell_type": "code",
   "execution_count": 13,
   "metadata": {},
   "outputs": [],
   "source": [
    "data=data.drop('Stops',1)"
   ]
  },
  {
   "cell_type": "code",
   "execution_count": 14,
   "metadata": {},
   "outputs": [
    {
     "data": {
      "text/html": [
       "<div>\n",
       "<style scoped>\n",
       "    .dataframe tbody tr th:only-of-type {\n",
       "        vertical-align: middle;\n",
       "    }\n",
       "\n",
       "    .dataframe tbody tr th {\n",
       "        vertical-align: top;\n",
       "    }\n",
       "\n",
       "    .dataframe thead th {\n",
       "        text-align: right;\n",
       "    }\n",
       "</style>\n",
       "<table border=\"1\" class=\"dataframe\">\n",
       "  <thead>\n",
       "    <tr style=\"text-align: right;\">\n",
       "      <th></th>\n",
       "      <th>Airline</th>\n",
       "      <th>Date</th>\n",
       "      <th>Departure Station</th>\n",
       "      <th>Arrival Station</th>\n",
       "      <th>Route Map</th>\n",
       "      <th>Departure Time</th>\n",
       "      <th>Arrival Time</th>\n",
       "      <th>Journey Time</th>\n",
       "      <th>Extra Info</th>\n",
       "      <th>Price</th>\n",
       "      <th>stops</th>\n",
       "    </tr>\n",
       "  </thead>\n",
       "  <tbody>\n",
       "    <tr>\n",
       "      <th>0</th>\n",
       "      <td>IndiGo</td>\n",
       "      <td>24/03/2019</td>\n",
       "      <td>Banglore</td>\n",
       "      <td>New Delhi</td>\n",
       "      <td>BLR → DEL</td>\n",
       "      <td>22:20</td>\n",
       "      <td>01:10 22 Mar</td>\n",
       "      <td>2h 50m</td>\n",
       "      <td>No info</td>\n",
       "      <td>3897</td>\n",
       "      <td>0</td>\n",
       "    </tr>\n",
       "    <tr>\n",
       "      <th>1</th>\n",
       "      <td>Air India</td>\n",
       "      <td>1/05/2019</td>\n",
       "      <td>Kolkata</td>\n",
       "      <td>Banglore</td>\n",
       "      <td>CCU → IXR → BBI → BLR</td>\n",
       "      <td>05:50</td>\n",
       "      <td>13:15</td>\n",
       "      <td>7h 25m</td>\n",
       "      <td>No info</td>\n",
       "      <td>7662</td>\n",
       "      <td>2</td>\n",
       "    </tr>\n",
       "    <tr>\n",
       "      <th>2</th>\n",
       "      <td>Jet Airways</td>\n",
       "      <td>9/06/2019</td>\n",
       "      <td>Delhi</td>\n",
       "      <td>Cochin</td>\n",
       "      <td>DEL → LKO → BOM → COK</td>\n",
       "      <td>09:25</td>\n",
       "      <td>04:25 10 Jun</td>\n",
       "      <td>19h</td>\n",
       "      <td>No info</td>\n",
       "      <td>13882</td>\n",
       "      <td>2</td>\n",
       "    </tr>\n",
       "    <tr>\n",
       "      <th>3</th>\n",
       "      <td>IndiGo</td>\n",
       "      <td>12/05/2019</td>\n",
       "      <td>Kolkata</td>\n",
       "      <td>Banglore</td>\n",
       "      <td>CCU → NAG → BLR</td>\n",
       "      <td>18:05</td>\n",
       "      <td>23:30</td>\n",
       "      <td>5h 25m</td>\n",
       "      <td>No info</td>\n",
       "      <td>6218</td>\n",
       "      <td>1</td>\n",
       "    </tr>\n",
       "    <tr>\n",
       "      <th>4</th>\n",
       "      <td>IndiGo</td>\n",
       "      <td>01/03/2019</td>\n",
       "      <td>Banglore</td>\n",
       "      <td>New Delhi</td>\n",
       "      <td>BLR → NAG → DEL</td>\n",
       "      <td>16:50</td>\n",
       "      <td>21:35</td>\n",
       "      <td>4h 45m</td>\n",
       "      <td>No info</td>\n",
       "      <td>13302</td>\n",
       "      <td>1</td>\n",
       "    </tr>\n",
       "  </tbody>\n",
       "</table>\n",
       "</div>"
      ],
      "text/plain": [
       "       Airline        Date Departure Station Arrival Station  \\\n",
       "0       IndiGo  24/03/2019          Banglore       New Delhi   \n",
       "1    Air India   1/05/2019           Kolkata        Banglore   \n",
       "2  Jet Airways   9/06/2019             Delhi          Cochin   \n",
       "3       IndiGo  12/05/2019           Kolkata        Banglore   \n",
       "4       IndiGo  01/03/2019          Banglore       New Delhi   \n",
       "\n",
       "               Route Map Departure Time  Arrival Time Journey Time Extra Info  \\\n",
       "0              BLR → DEL          22:20  01:10 22 Mar       2h 50m    No info   \n",
       "1  CCU → IXR → BBI → BLR          05:50         13:15       7h 25m    No info   \n",
       "2  DEL → LKO → BOM → COK          09:25  04:25 10 Jun          19h    No info   \n",
       "3        CCU → NAG → BLR          18:05         23:30       5h 25m    No info   \n",
       "4        BLR → NAG → DEL          16:50         21:35       4h 45m    No info   \n",
       "\n",
       "   Price  stops  \n",
       "0   3897      0  \n",
       "1   7662      2  \n",
       "2  13882      2  \n",
       "3   6218      1  \n",
       "4  13302      1  "
      ]
     },
     "execution_count": 14,
     "metadata": {},
     "output_type": "execute_result"
    }
   ],
   "source": [
    "data.head()"
   ]
  },
  {
   "cell_type": "code",
   "execution_count": 15,
   "metadata": {},
   "outputs": [],
   "source": [
    "data[\"Date\"]=pd.to_datetime(data['Date'])\n",
    "data['Month']=data['Date'].dt.month"
   ]
  },
  {
   "cell_type": "code",
   "execution_count": 16,
   "metadata": {},
   "outputs": [],
   "source": [
    "data['Day']=data['Date'].dt.day"
   ]
  },
  {
   "cell_type": "code",
   "execution_count": 17,
   "metadata": {},
   "outputs": [
    {
     "data": {
      "text/html": [
       "<div>\n",
       "<style scoped>\n",
       "    .dataframe tbody tr th:only-of-type {\n",
       "        vertical-align: middle;\n",
       "    }\n",
       "\n",
       "    .dataframe tbody tr th {\n",
       "        vertical-align: top;\n",
       "    }\n",
       "\n",
       "    .dataframe thead th {\n",
       "        text-align: right;\n",
       "    }\n",
       "</style>\n",
       "<table border=\"1\" class=\"dataframe\">\n",
       "  <thead>\n",
       "    <tr style=\"text-align: right;\">\n",
       "      <th></th>\n",
       "      <th>Airline</th>\n",
       "      <th>Date</th>\n",
       "      <th>Departure Station</th>\n",
       "      <th>Arrival Station</th>\n",
       "      <th>Route Map</th>\n",
       "      <th>Departure Time</th>\n",
       "      <th>Arrival Time</th>\n",
       "      <th>Journey Time</th>\n",
       "      <th>Extra Info</th>\n",
       "      <th>Price</th>\n",
       "      <th>stops</th>\n",
       "      <th>Month</th>\n",
       "      <th>Day</th>\n",
       "      <th>Year</th>\n",
       "    </tr>\n",
       "  </thead>\n",
       "  <tbody>\n",
       "    <tr>\n",
       "      <th>0</th>\n",
       "      <td>IndiGo</td>\n",
       "      <td>2019-03-24</td>\n",
       "      <td>Banglore</td>\n",
       "      <td>New Delhi</td>\n",
       "      <td>BLR → DEL</td>\n",
       "      <td>22:20</td>\n",
       "      <td>01:10 22 Mar</td>\n",
       "      <td>2h 50m</td>\n",
       "      <td>No info</td>\n",
       "      <td>3897</td>\n",
       "      <td>0</td>\n",
       "      <td>3</td>\n",
       "      <td>24</td>\n",
       "      <td>2019</td>\n",
       "    </tr>\n",
       "    <tr>\n",
       "      <th>1</th>\n",
       "      <td>Air India</td>\n",
       "      <td>2019-01-05</td>\n",
       "      <td>Kolkata</td>\n",
       "      <td>Banglore</td>\n",
       "      <td>CCU → IXR → BBI → BLR</td>\n",
       "      <td>05:50</td>\n",
       "      <td>13:15</td>\n",
       "      <td>7h 25m</td>\n",
       "      <td>No info</td>\n",
       "      <td>7662</td>\n",
       "      <td>2</td>\n",
       "      <td>1</td>\n",
       "      <td>5</td>\n",
       "      <td>2019</td>\n",
       "    </tr>\n",
       "    <tr>\n",
       "      <th>2</th>\n",
       "      <td>Jet Airways</td>\n",
       "      <td>2019-09-06</td>\n",
       "      <td>Delhi</td>\n",
       "      <td>Cochin</td>\n",
       "      <td>DEL → LKO → BOM → COK</td>\n",
       "      <td>09:25</td>\n",
       "      <td>04:25 10 Jun</td>\n",
       "      <td>19h</td>\n",
       "      <td>No info</td>\n",
       "      <td>13882</td>\n",
       "      <td>2</td>\n",
       "      <td>9</td>\n",
       "      <td>6</td>\n",
       "      <td>2019</td>\n",
       "    </tr>\n",
       "    <tr>\n",
       "      <th>3</th>\n",
       "      <td>IndiGo</td>\n",
       "      <td>2019-12-05</td>\n",
       "      <td>Kolkata</td>\n",
       "      <td>Banglore</td>\n",
       "      <td>CCU → NAG → BLR</td>\n",
       "      <td>18:05</td>\n",
       "      <td>23:30</td>\n",
       "      <td>5h 25m</td>\n",
       "      <td>No info</td>\n",
       "      <td>6218</td>\n",
       "      <td>1</td>\n",
       "      <td>12</td>\n",
       "      <td>5</td>\n",
       "      <td>2019</td>\n",
       "    </tr>\n",
       "    <tr>\n",
       "      <th>4</th>\n",
       "      <td>IndiGo</td>\n",
       "      <td>2019-01-03</td>\n",
       "      <td>Banglore</td>\n",
       "      <td>New Delhi</td>\n",
       "      <td>BLR → NAG → DEL</td>\n",
       "      <td>16:50</td>\n",
       "      <td>21:35</td>\n",
       "      <td>4h 45m</td>\n",
       "      <td>No info</td>\n",
       "      <td>13302</td>\n",
       "      <td>1</td>\n",
       "      <td>1</td>\n",
       "      <td>3</td>\n",
       "      <td>2019</td>\n",
       "    </tr>\n",
       "  </tbody>\n",
       "</table>\n",
       "</div>"
      ],
      "text/plain": [
       "       Airline       Date Departure Station Arrival Station  \\\n",
       "0       IndiGo 2019-03-24          Banglore       New Delhi   \n",
       "1    Air India 2019-01-05           Kolkata        Banglore   \n",
       "2  Jet Airways 2019-09-06             Delhi          Cochin   \n",
       "3       IndiGo 2019-12-05           Kolkata        Banglore   \n",
       "4       IndiGo 2019-01-03          Banglore       New Delhi   \n",
       "\n",
       "               Route Map Departure Time  Arrival Time Journey Time Extra Info  \\\n",
       "0              BLR → DEL          22:20  01:10 22 Mar       2h 50m    No info   \n",
       "1  CCU → IXR → BBI → BLR          05:50         13:15       7h 25m    No info   \n",
       "2  DEL → LKO → BOM → COK          09:25  04:25 10 Jun          19h    No info   \n",
       "3        CCU → NAG → BLR          18:05         23:30       5h 25m    No info   \n",
       "4        BLR → NAG → DEL          16:50         21:35       4h 45m    No info   \n",
       "\n",
       "   Price  stops  Month  Day  Year  \n",
       "0   3897      0      3   24  2019  \n",
       "1   7662      2      1    5  2019  \n",
       "2  13882      2      9    6  2019  \n",
       "3   6218      1     12    5  2019  \n",
       "4  13302      1      1    3  2019  "
      ]
     },
     "execution_count": 17,
     "metadata": {},
     "output_type": "execute_result"
    }
   ],
   "source": [
    "data['Year']=data['Date'].dt.year\n",
    "data.head()"
   ]
  },
  {
   "cell_type": "code",
   "execution_count": 18,
   "metadata": {},
   "outputs": [],
   "source": [
    "data=data.drop(['Date',\"Year\"],1)"
   ]
  },
  {
   "cell_type": "code",
   "execution_count": 19,
   "metadata": {},
   "outputs": [
    {
     "data": {
      "text/html": [
       "<div>\n",
       "<style scoped>\n",
       "    .dataframe tbody tr th:only-of-type {\n",
       "        vertical-align: middle;\n",
       "    }\n",
       "\n",
       "    .dataframe tbody tr th {\n",
       "        vertical-align: top;\n",
       "    }\n",
       "\n",
       "    .dataframe thead th {\n",
       "        text-align: right;\n",
       "    }\n",
       "</style>\n",
       "<table border=\"1\" class=\"dataframe\">\n",
       "  <thead>\n",
       "    <tr style=\"text-align: right;\">\n",
       "      <th></th>\n",
       "      <th>Airline</th>\n",
       "      <th>Departure Station</th>\n",
       "      <th>Arrival Station</th>\n",
       "      <th>Route Map</th>\n",
       "      <th>Departure Time</th>\n",
       "      <th>Arrival Time</th>\n",
       "      <th>Journey Time</th>\n",
       "      <th>Extra Info</th>\n",
       "      <th>Price</th>\n",
       "      <th>stops</th>\n",
       "      <th>Month</th>\n",
       "      <th>Day</th>\n",
       "    </tr>\n",
       "  </thead>\n",
       "  <tbody>\n",
       "    <tr>\n",
       "      <th>0</th>\n",
       "      <td>IndiGo</td>\n",
       "      <td>Banglore</td>\n",
       "      <td>New Delhi</td>\n",
       "      <td>BLR → DEL</td>\n",
       "      <td>22:20</td>\n",
       "      <td>01:10 22 Mar</td>\n",
       "      <td>2h 50m</td>\n",
       "      <td>No info</td>\n",
       "      <td>3897</td>\n",
       "      <td>0</td>\n",
       "      <td>3</td>\n",
       "      <td>24</td>\n",
       "    </tr>\n",
       "    <tr>\n",
       "      <th>1</th>\n",
       "      <td>Air India</td>\n",
       "      <td>Kolkata</td>\n",
       "      <td>Banglore</td>\n",
       "      <td>CCU → IXR → BBI → BLR</td>\n",
       "      <td>05:50</td>\n",
       "      <td>13:15</td>\n",
       "      <td>7h 25m</td>\n",
       "      <td>No info</td>\n",
       "      <td>7662</td>\n",
       "      <td>2</td>\n",
       "      <td>1</td>\n",
       "      <td>5</td>\n",
       "    </tr>\n",
       "    <tr>\n",
       "      <th>2</th>\n",
       "      <td>Jet Airways</td>\n",
       "      <td>Delhi</td>\n",
       "      <td>Cochin</td>\n",
       "      <td>DEL → LKO → BOM → COK</td>\n",
       "      <td>09:25</td>\n",
       "      <td>04:25 10 Jun</td>\n",
       "      <td>19h</td>\n",
       "      <td>No info</td>\n",
       "      <td>13882</td>\n",
       "      <td>2</td>\n",
       "      <td>9</td>\n",
       "      <td>6</td>\n",
       "    </tr>\n",
       "    <tr>\n",
       "      <th>3</th>\n",
       "      <td>IndiGo</td>\n",
       "      <td>Kolkata</td>\n",
       "      <td>Banglore</td>\n",
       "      <td>CCU → NAG → BLR</td>\n",
       "      <td>18:05</td>\n",
       "      <td>23:30</td>\n",
       "      <td>5h 25m</td>\n",
       "      <td>No info</td>\n",
       "      <td>6218</td>\n",
       "      <td>1</td>\n",
       "      <td>12</td>\n",
       "      <td>5</td>\n",
       "    </tr>\n",
       "    <tr>\n",
       "      <th>4</th>\n",
       "      <td>IndiGo</td>\n",
       "      <td>Banglore</td>\n",
       "      <td>New Delhi</td>\n",
       "      <td>BLR → NAG → DEL</td>\n",
       "      <td>16:50</td>\n",
       "      <td>21:35</td>\n",
       "      <td>4h 45m</td>\n",
       "      <td>No info</td>\n",
       "      <td>13302</td>\n",
       "      <td>1</td>\n",
       "      <td>1</td>\n",
       "      <td>3</td>\n",
       "    </tr>\n",
       "  </tbody>\n",
       "</table>\n",
       "</div>"
      ],
      "text/plain": [
       "       Airline Departure Station Arrival Station              Route Map  \\\n",
       "0       IndiGo          Banglore       New Delhi              BLR → DEL   \n",
       "1    Air India           Kolkata        Banglore  CCU → IXR → BBI → BLR   \n",
       "2  Jet Airways             Delhi          Cochin  DEL → LKO → BOM → COK   \n",
       "3       IndiGo           Kolkata        Banglore        CCU → NAG → BLR   \n",
       "4       IndiGo          Banglore       New Delhi        BLR → NAG → DEL   \n",
       "\n",
       "  Departure Time  Arrival Time Journey Time Extra Info  Price  stops  Month  \\\n",
       "0          22:20  01:10 22 Mar       2h 50m    No info   3897      0      3   \n",
       "1          05:50         13:15       7h 25m    No info   7662      2      1   \n",
       "2          09:25  04:25 10 Jun          19h    No info  13882      2      9   \n",
       "3          18:05         23:30       5h 25m    No info   6218      1     12   \n",
       "4          16:50         21:35       4h 45m    No info  13302      1      1   \n",
       "\n",
       "   Day  \n",
       "0   24  \n",
       "1    5  \n",
       "2    6  \n",
       "3    5  \n",
       "4    3  "
      ]
     },
     "execution_count": 19,
     "metadata": {},
     "output_type": "execute_result"
    }
   ],
   "source": [
    "data.head()"
   ]
  },
  {
   "cell_type": "code",
   "execution_count": 20,
   "metadata": {},
   "outputs": [],
   "source": [
    "lst=[]\n",
    "for i in data['Journey Time']:\n",
    "    l=i.split(' ')\n",
    "    h=l[0].split('h')[0]\n",
    "    hr=int(h[0])\n",
    "    if(len(l)==2):\n",
    "        m=l[1].split('m')\n",
    "        mi=int(m[0])\n",
    "    else:\n",
    "        mi=0\n",
    "    t=round(((hr*60)+mi)/60,2)\n",
    "    lst.append(t)"
   ]
  },
  {
   "cell_type": "code",
   "execution_count": 21,
   "metadata": {},
   "outputs": [
    {
     "data": {
      "text/html": [
       "<div>\n",
       "<style scoped>\n",
       "    .dataframe tbody tr th:only-of-type {\n",
       "        vertical-align: middle;\n",
       "    }\n",
       "\n",
       "    .dataframe tbody tr th {\n",
       "        vertical-align: top;\n",
       "    }\n",
       "\n",
       "    .dataframe thead th {\n",
       "        text-align: right;\n",
       "    }\n",
       "</style>\n",
       "<table border=\"1\" class=\"dataframe\">\n",
       "  <thead>\n",
       "    <tr style=\"text-align: right;\">\n",
       "      <th></th>\n",
       "      <th>Airline</th>\n",
       "      <th>Departure Station</th>\n",
       "      <th>Arrival Station</th>\n",
       "      <th>Route Map</th>\n",
       "      <th>Departure Time</th>\n",
       "      <th>Arrival Time</th>\n",
       "      <th>Journey Time</th>\n",
       "      <th>Extra Info</th>\n",
       "      <th>Price</th>\n",
       "      <th>stops</th>\n",
       "      <th>Month</th>\n",
       "      <th>Day</th>\n",
       "      <th>Journey_Time</th>\n",
       "    </tr>\n",
       "  </thead>\n",
       "  <tbody>\n",
       "    <tr>\n",
       "      <th>0</th>\n",
       "      <td>IndiGo</td>\n",
       "      <td>Banglore</td>\n",
       "      <td>New Delhi</td>\n",
       "      <td>BLR → DEL</td>\n",
       "      <td>22:20</td>\n",
       "      <td>01:10 22 Mar</td>\n",
       "      <td>2h 50m</td>\n",
       "      <td>No info</td>\n",
       "      <td>3897</td>\n",
       "      <td>0</td>\n",
       "      <td>3</td>\n",
       "      <td>24</td>\n",
       "      <td>2.83</td>\n",
       "    </tr>\n",
       "    <tr>\n",
       "      <th>1</th>\n",
       "      <td>Air India</td>\n",
       "      <td>Kolkata</td>\n",
       "      <td>Banglore</td>\n",
       "      <td>CCU → IXR → BBI → BLR</td>\n",
       "      <td>05:50</td>\n",
       "      <td>13:15</td>\n",
       "      <td>7h 25m</td>\n",
       "      <td>No info</td>\n",
       "      <td>7662</td>\n",
       "      <td>2</td>\n",
       "      <td>1</td>\n",
       "      <td>5</td>\n",
       "      <td>7.42</td>\n",
       "    </tr>\n",
       "    <tr>\n",
       "      <th>2</th>\n",
       "      <td>Jet Airways</td>\n",
       "      <td>Delhi</td>\n",
       "      <td>Cochin</td>\n",
       "      <td>DEL → LKO → BOM → COK</td>\n",
       "      <td>09:25</td>\n",
       "      <td>04:25 10 Jun</td>\n",
       "      <td>19h</td>\n",
       "      <td>No info</td>\n",
       "      <td>13882</td>\n",
       "      <td>2</td>\n",
       "      <td>9</td>\n",
       "      <td>6</td>\n",
       "      <td>1.00</td>\n",
       "    </tr>\n",
       "    <tr>\n",
       "      <th>3</th>\n",
       "      <td>IndiGo</td>\n",
       "      <td>Kolkata</td>\n",
       "      <td>Banglore</td>\n",
       "      <td>CCU → NAG → BLR</td>\n",
       "      <td>18:05</td>\n",
       "      <td>23:30</td>\n",
       "      <td>5h 25m</td>\n",
       "      <td>No info</td>\n",
       "      <td>6218</td>\n",
       "      <td>1</td>\n",
       "      <td>12</td>\n",
       "      <td>5</td>\n",
       "      <td>5.42</td>\n",
       "    </tr>\n",
       "    <tr>\n",
       "      <th>4</th>\n",
       "      <td>IndiGo</td>\n",
       "      <td>Banglore</td>\n",
       "      <td>New Delhi</td>\n",
       "      <td>BLR → NAG → DEL</td>\n",
       "      <td>16:50</td>\n",
       "      <td>21:35</td>\n",
       "      <td>4h 45m</td>\n",
       "      <td>No info</td>\n",
       "      <td>13302</td>\n",
       "      <td>1</td>\n",
       "      <td>1</td>\n",
       "      <td>3</td>\n",
       "      <td>4.75</td>\n",
       "    </tr>\n",
       "  </tbody>\n",
       "</table>\n",
       "</div>"
      ],
      "text/plain": [
       "       Airline Departure Station Arrival Station              Route Map  \\\n",
       "0       IndiGo          Banglore       New Delhi              BLR → DEL   \n",
       "1    Air India           Kolkata        Banglore  CCU → IXR → BBI → BLR   \n",
       "2  Jet Airways             Delhi          Cochin  DEL → LKO → BOM → COK   \n",
       "3       IndiGo           Kolkata        Banglore        CCU → NAG → BLR   \n",
       "4       IndiGo          Banglore       New Delhi        BLR → NAG → DEL   \n",
       "\n",
       "  Departure Time  Arrival Time Journey Time Extra Info  Price  stops  Month  \\\n",
       "0          22:20  01:10 22 Mar       2h 50m    No info   3897      0      3   \n",
       "1          05:50         13:15       7h 25m    No info   7662      2      1   \n",
       "2          09:25  04:25 10 Jun          19h    No info  13882      2      9   \n",
       "3          18:05         23:30       5h 25m    No info   6218      1     12   \n",
       "4          16:50         21:35       4h 45m    No info  13302      1      1   \n",
       "\n",
       "   Day  Journey_Time  \n",
       "0   24          2.83  \n",
       "1    5          7.42  \n",
       "2    6          1.00  \n",
       "3    5          5.42  \n",
       "4    3          4.75  "
      ]
     },
     "execution_count": 21,
     "metadata": {},
     "output_type": "execute_result"
    }
   ],
   "source": [
    "data['Journey_Time']=lst\n",
    "data.head()"
   ]
  },
  {
   "cell_type": "code",
   "execution_count": 22,
   "metadata": {},
   "outputs": [],
   "source": [
    "data=data.drop('Journey Time',1)"
   ]
  },
  {
   "cell_type": "code",
   "execution_count": 23,
   "metadata": {},
   "outputs": [
    {
     "data": {
      "text/html": [
       "<div>\n",
       "<style scoped>\n",
       "    .dataframe tbody tr th:only-of-type {\n",
       "        vertical-align: middle;\n",
       "    }\n",
       "\n",
       "    .dataframe tbody tr th {\n",
       "        vertical-align: top;\n",
       "    }\n",
       "\n",
       "    .dataframe thead th {\n",
       "        text-align: right;\n",
       "    }\n",
       "</style>\n",
       "<table border=\"1\" class=\"dataframe\">\n",
       "  <thead>\n",
       "    <tr style=\"text-align: right;\">\n",
       "      <th></th>\n",
       "      <th>Airline</th>\n",
       "      <th>Departure Station</th>\n",
       "      <th>Arrival Station</th>\n",
       "      <th>Route Map</th>\n",
       "      <th>Departure Time</th>\n",
       "      <th>Arrival Time</th>\n",
       "      <th>Extra Info</th>\n",
       "      <th>Price</th>\n",
       "      <th>stops</th>\n",
       "      <th>Month</th>\n",
       "      <th>Day</th>\n",
       "      <th>Journey_Time</th>\n",
       "    </tr>\n",
       "  </thead>\n",
       "  <tbody>\n",
       "    <tr>\n",
       "      <th>0</th>\n",
       "      <td>IndiGo</td>\n",
       "      <td>Banglore</td>\n",
       "      <td>New Delhi</td>\n",
       "      <td>BLR → DEL</td>\n",
       "      <td>22:20</td>\n",
       "      <td>01:10 22 Mar</td>\n",
       "      <td>No info</td>\n",
       "      <td>3897</td>\n",
       "      <td>0</td>\n",
       "      <td>3</td>\n",
       "      <td>24</td>\n",
       "      <td>2.83</td>\n",
       "    </tr>\n",
       "    <tr>\n",
       "      <th>1</th>\n",
       "      <td>Air India</td>\n",
       "      <td>Kolkata</td>\n",
       "      <td>Banglore</td>\n",
       "      <td>CCU → IXR → BBI → BLR</td>\n",
       "      <td>05:50</td>\n",
       "      <td>13:15</td>\n",
       "      <td>No info</td>\n",
       "      <td>7662</td>\n",
       "      <td>2</td>\n",
       "      <td>1</td>\n",
       "      <td>5</td>\n",
       "      <td>7.42</td>\n",
       "    </tr>\n",
       "    <tr>\n",
       "      <th>2</th>\n",
       "      <td>Jet Airways</td>\n",
       "      <td>Delhi</td>\n",
       "      <td>Cochin</td>\n",
       "      <td>DEL → LKO → BOM → COK</td>\n",
       "      <td>09:25</td>\n",
       "      <td>04:25 10 Jun</td>\n",
       "      <td>No info</td>\n",
       "      <td>13882</td>\n",
       "      <td>2</td>\n",
       "      <td>9</td>\n",
       "      <td>6</td>\n",
       "      <td>1.00</td>\n",
       "    </tr>\n",
       "    <tr>\n",
       "      <th>3</th>\n",
       "      <td>IndiGo</td>\n",
       "      <td>Kolkata</td>\n",
       "      <td>Banglore</td>\n",
       "      <td>CCU → NAG → BLR</td>\n",
       "      <td>18:05</td>\n",
       "      <td>23:30</td>\n",
       "      <td>No info</td>\n",
       "      <td>6218</td>\n",
       "      <td>1</td>\n",
       "      <td>12</td>\n",
       "      <td>5</td>\n",
       "      <td>5.42</td>\n",
       "    </tr>\n",
       "    <tr>\n",
       "      <th>4</th>\n",
       "      <td>IndiGo</td>\n",
       "      <td>Banglore</td>\n",
       "      <td>New Delhi</td>\n",
       "      <td>BLR → NAG → DEL</td>\n",
       "      <td>16:50</td>\n",
       "      <td>21:35</td>\n",
       "      <td>No info</td>\n",
       "      <td>13302</td>\n",
       "      <td>1</td>\n",
       "      <td>1</td>\n",
       "      <td>3</td>\n",
       "      <td>4.75</td>\n",
       "    </tr>\n",
       "  </tbody>\n",
       "</table>\n",
       "</div>"
      ],
      "text/plain": [
       "       Airline Departure Station Arrival Station              Route Map  \\\n",
       "0       IndiGo          Banglore       New Delhi              BLR → DEL   \n",
       "1    Air India           Kolkata        Banglore  CCU → IXR → BBI → BLR   \n",
       "2  Jet Airways             Delhi          Cochin  DEL → LKO → BOM → COK   \n",
       "3       IndiGo           Kolkata        Banglore        CCU → NAG → BLR   \n",
       "4       IndiGo          Banglore       New Delhi        BLR → NAG → DEL   \n",
       "\n",
       "  Departure Time  Arrival Time Extra Info  Price  stops  Month  Day  \\\n",
       "0          22:20  01:10 22 Mar    No info   3897      0      3   24   \n",
       "1          05:50         13:15    No info   7662      2      1    5   \n",
       "2          09:25  04:25 10 Jun    No info  13882      2      9    6   \n",
       "3          18:05         23:30    No info   6218      1     12    5   \n",
       "4          16:50         21:35    No info  13302      1      1    3   \n",
       "\n",
       "   Journey_Time  \n",
       "0          2.83  \n",
       "1          7.42  \n",
       "2          1.00  \n",
       "3          5.42  \n",
       "4          4.75  "
      ]
     },
     "execution_count": 23,
     "metadata": {},
     "output_type": "execute_result"
    }
   ],
   "source": [
    "data.head()"
   ]
  },
  {
   "cell_type": "code",
   "execution_count": 24,
   "metadata": {},
   "outputs": [],
   "source": [
    "lst=[]\n",
    "for i in data['Arrival Time']:\n",
    "    l=i.split(' ')[0]\n",
    "    lst.append(l)"
   ]
  },
  {
   "cell_type": "code",
   "execution_count": 25,
   "metadata": {},
   "outputs": [],
   "source": [
    "data[\"Arrival_Time\"]=lst"
   ]
  },
  {
   "cell_type": "code",
   "execution_count": 26,
   "metadata": {},
   "outputs": [],
   "source": [
    "data=data.drop('Arrival Time',1)"
   ]
  },
  {
   "cell_type": "code",
   "execution_count": 27,
   "metadata": {},
   "outputs": [],
   "source": [
    "data=data.drop('Route Map',1)"
   ]
  },
  {
   "cell_type": "code",
   "execution_count": 28,
   "metadata": {},
   "outputs": [
    {
     "data": {
      "text/html": [
       "<div>\n",
       "<style scoped>\n",
       "    .dataframe tbody tr th:only-of-type {\n",
       "        vertical-align: middle;\n",
       "    }\n",
       "\n",
       "    .dataframe tbody tr th {\n",
       "        vertical-align: top;\n",
       "    }\n",
       "\n",
       "    .dataframe thead th {\n",
       "        text-align: right;\n",
       "    }\n",
       "</style>\n",
       "<table border=\"1\" class=\"dataframe\">\n",
       "  <thead>\n",
       "    <tr style=\"text-align: right;\">\n",
       "      <th></th>\n",
       "      <th>Airline</th>\n",
       "      <th>Departure Station</th>\n",
       "      <th>Arrival Station</th>\n",
       "      <th>Departure Time</th>\n",
       "      <th>Extra Info</th>\n",
       "      <th>Price</th>\n",
       "      <th>stops</th>\n",
       "      <th>Month</th>\n",
       "      <th>Day</th>\n",
       "      <th>Journey_Time</th>\n",
       "      <th>Arrival_Time</th>\n",
       "    </tr>\n",
       "  </thead>\n",
       "  <tbody>\n",
       "    <tr>\n",
       "      <th>0</th>\n",
       "      <td>IndiGo</td>\n",
       "      <td>Banglore</td>\n",
       "      <td>New Delhi</td>\n",
       "      <td>22:20</td>\n",
       "      <td>No info</td>\n",
       "      <td>3897</td>\n",
       "      <td>0</td>\n",
       "      <td>3</td>\n",
       "      <td>24</td>\n",
       "      <td>2.83</td>\n",
       "      <td>01:10</td>\n",
       "    </tr>\n",
       "    <tr>\n",
       "      <th>1</th>\n",
       "      <td>Air India</td>\n",
       "      <td>Kolkata</td>\n",
       "      <td>Banglore</td>\n",
       "      <td>05:50</td>\n",
       "      <td>No info</td>\n",
       "      <td>7662</td>\n",
       "      <td>2</td>\n",
       "      <td>1</td>\n",
       "      <td>5</td>\n",
       "      <td>7.42</td>\n",
       "      <td>13:15</td>\n",
       "    </tr>\n",
       "    <tr>\n",
       "      <th>2</th>\n",
       "      <td>Jet Airways</td>\n",
       "      <td>Delhi</td>\n",
       "      <td>Cochin</td>\n",
       "      <td>09:25</td>\n",
       "      <td>No info</td>\n",
       "      <td>13882</td>\n",
       "      <td>2</td>\n",
       "      <td>9</td>\n",
       "      <td>6</td>\n",
       "      <td>1.00</td>\n",
       "      <td>04:25</td>\n",
       "    </tr>\n",
       "    <tr>\n",
       "      <th>3</th>\n",
       "      <td>IndiGo</td>\n",
       "      <td>Kolkata</td>\n",
       "      <td>Banglore</td>\n",
       "      <td>18:05</td>\n",
       "      <td>No info</td>\n",
       "      <td>6218</td>\n",
       "      <td>1</td>\n",
       "      <td>12</td>\n",
       "      <td>5</td>\n",
       "      <td>5.42</td>\n",
       "      <td>23:30</td>\n",
       "    </tr>\n",
       "    <tr>\n",
       "      <th>4</th>\n",
       "      <td>IndiGo</td>\n",
       "      <td>Banglore</td>\n",
       "      <td>New Delhi</td>\n",
       "      <td>16:50</td>\n",
       "      <td>No info</td>\n",
       "      <td>13302</td>\n",
       "      <td>1</td>\n",
       "      <td>1</td>\n",
       "      <td>3</td>\n",
       "      <td>4.75</td>\n",
       "      <td>21:35</td>\n",
       "    </tr>\n",
       "  </tbody>\n",
       "</table>\n",
       "</div>"
      ],
      "text/plain": [
       "       Airline Departure Station Arrival Station Departure Time Extra Info  \\\n",
       "0       IndiGo          Banglore       New Delhi          22:20    No info   \n",
       "1    Air India           Kolkata        Banglore          05:50    No info   \n",
       "2  Jet Airways             Delhi          Cochin          09:25    No info   \n",
       "3       IndiGo           Kolkata        Banglore          18:05    No info   \n",
       "4       IndiGo          Banglore       New Delhi          16:50    No info   \n",
       "\n",
       "   Price  stops  Month  Day  Journey_Time Arrival_Time  \n",
       "0   3897      0      3   24          2.83        01:10  \n",
       "1   7662      2      1    5          7.42        13:15  \n",
       "2  13882      2      9    6          1.00        04:25  \n",
       "3   6218      1     12    5          5.42        23:30  \n",
       "4  13302      1      1    3          4.75        21:35  "
      ]
     },
     "execution_count": 28,
     "metadata": {},
     "output_type": "execute_result"
    }
   ],
   "source": [
    "data.head()"
   ]
  },
  {
   "cell_type": "code",
   "execution_count": 29,
   "metadata": {},
   "outputs": [],
   "source": [
    "inp=data.drop('Price',1)"
   ]
  },
  {
   "cell_type": "code",
   "execution_count": 30,
   "metadata": {},
   "outputs": [],
   "source": [
    "dum=pd.get_dummies(inp) #Data Dummies"
   ]
  },
  {
   "cell_type": "code",
   "execution_count": 31,
   "metadata": {},
   "outputs": [
    {
     "data": {
      "text/plain": [
       "stops                   int64\n",
       "Month                   int64\n",
       "Day                     int64\n",
       "Journey_Time          float64\n",
       "Airline_Air Asia        uint8\n",
       "                       ...   \n",
       "Arrival_Time_23:35      uint8\n",
       "Arrival_Time_23:40      uint8\n",
       "Arrival_Time_23:45      uint8\n",
       "Arrival_Time_23:50      uint8\n",
       "Arrival_Time_23:55      uint8\n",
       "Length: 477, dtype: object"
      ]
     },
     "execution_count": 31,
     "metadata": {},
     "output_type": "execute_result"
    }
   ],
   "source": [
    "dum.dtypes"
   ]
  },
  {
   "cell_type": "markdown",
   "metadata": {},
   "source": [
    "# Splitting our data to Test data and Train data"
   ]
  },
  {
   "cell_type": "code",
   "execution_count": 32,
   "metadata": {},
   "outputs": [],
   "source": [
    "from sklearn.model_selection import train_test_split\n",
    "xtrain,xtest,ytrain,ytest=train_test_split(dum,out,test_size=0.3,random_state=48)"
   ]
  },
  {
   "cell_type": "markdown",
   "metadata": {},
   "source": [
    "# Ridge"
   ]
  },
  {
   "cell_type": "code",
   "execution_count": 33,
   "metadata": {},
   "outputs": [],
   "source": [
    "from sklearn.linear_model import Ridge\n",
    "mol_rid=Ridge(alpha=0.5,normalize=True)\n",
    "mol_rid.fit(xtrain,ytrain)\n",
    "ypred=mol_rid.predict(xtest)"
   ]
  },
  {
   "cell_type": "code",
   "execution_count": 34,
   "metadata": {},
   "outputs": [
    {
     "name": "stdout",
     "output_type": "stream",
     "text": [
      "0.6946381747836716\n",
      "6781351.593614327\n",
      "2604.10283852507\n"
     ]
    }
   ],
   "source": [
    "from sklearn.metrics import r2_score,mean_squared_error\n",
    "r2=r2_score(ytest,ypred)\n",
    "mse=mean_squared_error(ytest,ypred)\n",
    "rmse=np.sqrt(mse)\n",
    "print(r2)\n",
    "print(mse)\n",
    "print(rmse)"
   ]
  },
  {
   "cell_type": "code",
   "execution_count": 35,
   "metadata": {},
   "outputs": [
    {
     "data": {
      "text/plain": [
       "array([ 1.24100080e+03, -1.91466883e+01, -4.47797731e+01,  4.04815364e+01,\n",
       "       -1.46687426e+03, -1.34643792e+02, -1.22044273e+03, -1.35226541e+03,\n",
       "        1.57521112e+03,  2.45438720e+04,  5.10230168e+02,  6.92890787e+02,\n",
       "       -1.49987569e+03, -2.99830805e+03, -3.33779673e+02,  1.07794765e+03,\n",
       "       -2.97533543e+01, -6.01669882e+02,  2.77416956e+02,  5.30665907e+00,\n",
       "       -7.20247535e+02,  5.30665907e+00,  2.77416956e+02, -1.04951240e+03,\n",
       "       -7.20247535e+02, -6.01669882e+02,  1.35506227e+03,  5.85978365e+03,\n",
       "       -8.42018708e+02, -2.44390679e+02, -9.99194647e+02, -7.44223154e+02,\n",
       "       -7.77889711e+02, -1.14140407e+03, -1.26995064e+03, -7.97360106e+02,\n",
       "        1.43172205e+03, -6.72649032e+02,  1.76846858e+02, -1.46226694e+03,\n",
       "       -2.67676385e+03, -6.68766148e+01, -8.72570605e+01, -9.86632928e+02,\n",
       "       -2.84563688e+02,  1.12225063e+03, -1.40599925e+03, -1.06554699e+03,\n",
       "       -6.49868706e+02, -2.17901361e+02, -1.35316802e+03, -9.49088549e+02,\n",
       "        4.38944354e+02,  1.62296453e+02, -4.37626689e+02,  4.52979350e+02,\n",
       "        9.22648043e+02, -1.35017055e+02, -3.53398565e+00, -4.93730315e+02,\n",
       "       -9.92672105e+02, -1.16517973e+03, -2.07956690e+03, -1.33519150e+03,\n",
       "       -4.92903821e+02,  9.32458578e+02, -2.49710931e+03, -4.73252779e+02,\n",
       "       -2.92607164e+02,  6.15843967e+01, -1.69360520e+03,  3.82808850e+02,\n",
       "        3.97116640e+02, -4.72860591e+02, -1.96452466e+03,  0.00000000e+00,\n",
       "       -1.56191696e+03, -1.28501735e+02, -9.48857547e+02, -8.49564360e+02,\n",
       "       -5.09312010e+02,  1.26009930e+03, -1.10668873e+03, -1.69407586e+03,\n",
       "       -4.34991807e+02,  1.17528956e+03, -6.68904723e+02, -9.47719602e+02,\n",
       "        5.17678471e+03, -6.55038829e+02,  2.62723008e+03,  7.89487853e+02,\n",
       "        3.53135686e+02,  2.29278686e+02, -7.97648505e+02,  1.74763409e+03,\n",
       "        2.46177650e+02,  1.68166492e+02,  2.38655766e+02,  7.19424434e+01,\n",
       "       -9.66764007e+02,  7.47635763e+02,  1.74547671e+03,  5.91168793e+02,\n",
       "       -9.31999528e+01, -4.15508958e+02, -8.55659599e+02, -3.67698615e+03,\n",
       "       -6.01508324e+02, -1.43749903e+03, -8.13172973e+02,  8.71596264e+02,\n",
       "       -8.77560333e+02,  8.48084145e+01, -4.43236320e+02,  1.36111654e+03,\n",
       "       -6.58942393e+02, -1.37333271e+03,  8.09577788e+02,  3.43466882e+02,\n",
       "        3.97944504e+02,  2.35207429e+02, -1.10543051e+03, -2.13529398e+02,\n",
       "       -4.43633064e+02, -3.28827220e+03,  0.00000000e+00,  5.31916497e+02,\n",
       "        1.26905194e+03, -1.23663735e+03,  2.60135817e+03, -1.13879274e+02,\n",
       "        1.47018222e+03,  4.98633777e+02, -3.64258590e+02,  8.25053824e+01,\n",
       "       -5.60446795e+02,  1.30470125e+02,  8.55059277e+02,  3.62193584e+02,\n",
       "       -9.31670465e+02,  2.07797075e+03,  1.97430228e+02,  9.24508273e+02,\n",
       "        5.86873451e+02,  1.27546526e+03,  1.19413239e+03, -1.34160072e+03,\n",
       "       -4.35609307e+02, -1.39243091e+02,  1.48786171e+03, -4.18108489e+02,\n",
       "        8.61640494e+01, -1.00985087e+03, -1.27897958e+03,  3.05999142e+02,\n",
       "        2.09123963e+03, -8.37770734e+02, -1.37431226e+03, -4.05784500e+02,\n",
       "        0.00000000e+00, -9.92140649e+02, -2.02663963e+03, -3.27510199e+01,\n",
       "       -1.39225951e+03, -1.65399405e+03,  4.55879722e+02,  2.22192565e+02,\n",
       "       -4.97372120e+02, -2.09478003e+03,  2.30172844e+03,  6.41704029e+02,\n",
       "       -2.47756443e+02, -5.68183356e+02,  4.75540444e+02,  7.09745078e+02,\n",
       "        1.61623509e+02, -1.89985813e+01, -9.23255438e+02, -1.15636175e+03,\n",
       "       -7.45536217e+02, -4.14036080e+02,  9.68538837e+02,  4.09564064e+02,\n",
       "       -1.01374845e+03, -1.63361764e+03, -1.27956344e+02,  4.55533628e+03,\n",
       "       -1.07384396e+03, -1.33850193e+03, -6.49712536e+02,  7.77664176e+02,\n",
       "        5.58999109e+02, -2.32471209e+02,  1.85787985e+03, -5.39378737e+02,\n",
       "        6.37543367e+03,  8.83630228e+02,  2.76472350e+02, -8.71869100e+02,\n",
       "       -8.75577546e+02,  6.47293191e+02,  7.18828874e+02, -2.44613390e+03,\n",
       "       -4.87950712e+02, -1.57524505e+03, -4.82629652e+01,  5.92582199e+02,\n",
       "       -2.35830796e+02, -6.93961472e+02,  7.79693194e+02, -3.67373416e+02,\n",
       "        2.17883327e+03,  1.64506699e+03, -5.60311376e+02,  1.45031730e+02,\n",
       "       -5.88078183e+02,  3.51009854e+02, -1.89779037e+03, -7.85290449e+02,\n",
       "        7.77059443e+02,  9.67718728e+02, -1.12902120e+03, -1.20267185e+03,\n",
       "        8.11210291e+02, -6.78675256e+02, -1.41327928e+03, -7.86952876e+01,\n",
       "        2.94846512e+02,  1.54756041e+02,  1.06951297e+03,  3.06212438e+03,\n",
       "        3.14269763e+01, -8.19948475e+01, -8.99840451e+02, -9.23371287e+02,\n",
       "       -5.61862420e+02,  1.25441247e+03, -7.20425305e+02, -1.14575758e+03,\n",
       "        1.30236446e+03,  9.60648217e+01,  5.78340953e+02,  7.26433145e+02,\n",
       "       -1.00072096e+03, -4.66581281e+02, -2.36319917e+02,  6.97639709e+03,\n",
       "        8.07955103e+03,  1.13979154e+04,  2.56746682e+03, -1.06565402e+03,\n",
       "       -2.80719802e+02, -3.67779038e+02,  8.80371363e+02,  3.45811260e+03,\n",
       "       -1.21556610e+03, -6.67242577e+02, -6.98624726e+02,  8.89619151e+00,\n",
       "       -8.99737168e+01,  4.22220592e+02,  6.20217618e+03, -1.07744075e+03,\n",
       "        9.05551705e+03, -9.23371287e+02, -6.29188700e+02, -7.32979395e+02,\n",
       "       -2.24423744e+02, -8.67614659e+02, -4.54048302e+02,  2.20443687e+03,\n",
       "       -7.24979909e+02, -1.00072096e+03, -2.12533081e+02, -5.52862381e+02,\n",
       "       -2.36319917e+02, -1.14140407e+03, -8.42018708e+02, -1.02790676e+03,\n",
       "       -2.11863969e+03, -1.43891477e+03, -6.72649032e+02, -1.72799181e+03,\n",
       "       -7.44223154e+02, -6.79089147e+02,  7.77571558e+02,  1.21728022e+03,\n",
       "       -8.04946785e+01,  9.99876237e+02,  3.83236477e+03,  1.86758000e+03,\n",
       "        6.21369339e+02,  2.61760894e+01, -1.10680123e+03, -4.75727425e+02,\n",
       "       -4.52539195e+01, -1.75979013e+03, -9.65525787e+02,  4.77228743e+02,\n",
       "        1.84363910e+02, -1.37918988e+02, -4.51856598e+02, -1.13765270e+03,\n",
       "        1.74691176e+03,  7.73208657e+02, -1.79536018e+03, -6.92774346e+02,\n",
       "       -7.71656395e+02, -8.84621464e+02, -4.20315519e+02, -6.94990435e+02,\n",
       "        8.24106652e+02,  1.71163197e+03, -1.74707484e+02,  2.24157503e+02,\n",
       "        1.23806715e+03, -2.06411690e+01, -1.09458528e+02,  5.43644871e+02,\n",
       "       -2.01362908e+02, -1.19149339e+03,  1.11411048e+03, -2.11485594e+03,\n",
       "        1.59540561e+03,  2.36795226e+02, -4.61273166e+02, -5.08158127e+02,\n",
       "       -1.75079837e+03,  1.41052151e+03, -1.21274175e+03,  1.13123216e+02,\n",
       "       -4.59164192e+02,  4.61538925e+02,  1.05287467e+03,  9.36920192e+02,\n",
       "       -1.89292960e+03,  3.54718574e+02, -1.98292202e+03, -4.27919275e+02,\n",
       "       -1.04042362e+03, -8.61248439e+02, -1.21659203e+02,  3.45700623e+03,\n",
       "        2.98086045e+02, -1.59533508e+02, -1.70940297e+03, -3.18409309e+02,\n",
       "       -9.86390803e+02,  1.54505188e+03,  4.93899763e+02,  6.86702927e+02,\n",
       "       -1.84633269e+03, -9.55754278e+02, -1.18629359e+03, -6.62442692e+02,\n",
       "       -9.05189295e+02, -7.73896332e+02,  0.00000000e+00, -7.18341219e+02,\n",
       "        1.13185613e+03,  2.76478510e+02, -1.25607577e+03, -1.25586092e+03,\n",
       "       -1.10832870e+03,  1.75291107e+03, -6.76139332e+02, -8.43882285e+02,\n",
       "       -1.01108344e+03, -1.25697857e+03, -2.64270247e+02, -1.84555084e+03,\n",
       "        5.50832620e+02, -1.41322084e+03, -1.32102305e+03, -4.45005693e+02,\n",
       "       -1.23542309e+03,  1.79876179e+03, -7.69396877e+02,  7.22544770e+02,\n",
       "        8.35083743e+02,  1.39960670e+03, -2.90519788e+03, -2.39867834e+03,\n",
       "        1.59365481e+03, -7.43663700e+02, -4.77053560e+02, -7.38461309e+02,\n",
       "        1.96008125e+03, -1.06059915e+03, -7.35491091e+02,  9.56895825e+02,\n",
       "        5.66985465e+02, -1.98884459e+03, -5.38622198e+02,  8.58196080e+03,\n",
       "       -1.11588537e+03, -1.15317652e+02,  6.53077385e+03, -1.68302989e+02,\n",
       "       -3.41291102e+02, -2.31087103e+03, -5.08074801e+02, -8.50298255e+02,\n",
       "       -4.51549740e+02, -1.39358932e+03, -9.05670914e+02, -2.00036631e+02,\n",
       "       -1.15333418e+03, -1.37038302e+03,  1.19237594e+03, -8.09678828e+02,\n",
       "        2.87052277e+02,  7.06893896e+02, -1.99537653e+03,  1.05035692e+03,\n",
       "       -1.74759832e+02, -3.89690277e+02,  2.12867602e+03,  8.77853153e+02,\n",
       "        7.36583653e+02,  8.52310522e+02,  2.04690602e+03,  1.18881380e+02,\n",
       "        3.33161903e+03, -2.06687281e+02, -9.46736144e+02, -4.72006783e+02,\n",
       "        7.28776881e+02,  1.97363638e+02, -2.22517094e+02, -8.55875815e+02,\n",
       "        4.47836064e+02,  0.00000000e+00,  2.38683673e+03,  2.87812694e+02,\n",
       "        7.23374715e+02, -6.51323370e+02, -1.18083146e+03,  9.83796443e+02,\n",
       "       -3.46327983e+02, -9.60786014e+02, -2.30293118e+02, -2.92140178e+02,\n",
       "       -1.16712644e+03,  1.74084139e+03, -1.10698131e+02, -4.41263980e+02,\n",
       "       -4.11986744e+02, -1.88799280e+03, -8.76637766e+02, -7.18568140e+02,\n",
       "        2.72363135e+02, -1.04547023e+03,  6.96110949e+02,  9.17927898e+00,\n",
       "       -8.44953808e+02, -4.01172616e+02, -9.10813574e+02, -1.02180434e+03,\n",
       "        6.58184990e+02, -2.98384523e+00, -7.39581570e+00, -9.61276000e+02,\n",
       "       -3.65933040e+02, -3.37422252e+02, -1.04272187e+03, -1.55059825e+03,\n",
       "        5.56372836e+02, -1.62395193e+03,  5.42668472e+02, -1.21971370e+03,\n",
       "        7.84872987e+02, -2.15256844e+03, -7.33209749e+02, -5.62373140e+01,\n",
       "       -2.90292347e+02])"
      ]
     },
     "execution_count": 35,
     "metadata": {},
     "output_type": "execute_result"
    }
   ],
   "source": [
    "coef=mol_rid.coef_\n",
    "coef"
   ]
  },
  {
   "cell_type": "code",
   "execution_count": 36,
   "metadata": {},
   "outputs": [
    {
     "data": {
      "text/html": [
       "<div>\n",
       "<style scoped>\n",
       "    .dataframe tbody tr th:only-of-type {\n",
       "        vertical-align: middle;\n",
       "    }\n",
       "\n",
       "    .dataframe tbody tr th {\n",
       "        vertical-align: top;\n",
       "    }\n",
       "\n",
       "    .dataframe thead th {\n",
       "        text-align: right;\n",
       "    }\n",
       "</style>\n",
       "<table border=\"1\" class=\"dataframe\">\n",
       "  <thead>\n",
       "    <tr style=\"text-align: right;\">\n",
       "      <th></th>\n",
       "      <th>0</th>\n",
       "      <th>features</th>\n",
       "    </tr>\n",
       "  </thead>\n",
       "  <tbody>\n",
       "    <tr>\n",
       "      <th>0</th>\n",
       "      <td>1241.000796</td>\n",
       "      <td>stops</td>\n",
       "    </tr>\n",
       "    <tr>\n",
       "      <th>1</th>\n",
       "      <td>-19.146688</td>\n",
       "      <td>Month</td>\n",
       "    </tr>\n",
       "    <tr>\n",
       "      <th>2</th>\n",
       "      <td>-44.779773</td>\n",
       "      <td>Day</td>\n",
       "    </tr>\n",
       "    <tr>\n",
       "      <th>3</th>\n",
       "      <td>40.481536</td>\n",
       "      <td>Journey_Time</td>\n",
       "    </tr>\n",
       "    <tr>\n",
       "      <th>4</th>\n",
       "      <td>-1466.874261</td>\n",
       "      <td>Airline_Air Asia</td>\n",
       "    </tr>\n",
       "  </tbody>\n",
       "</table>\n",
       "</div>"
      ],
      "text/plain": [
       "             0          features\n",
       "0  1241.000796             stops\n",
       "1   -19.146688             Month\n",
       "2   -44.779773               Day\n",
       "3    40.481536      Journey_Time\n",
       "4 -1466.874261  Airline_Air Asia"
      ]
     },
     "execution_count": 36,
     "metadata": {},
     "output_type": "execute_result"
    }
   ],
   "source": [
    "coef=pd.DataFrame(coef)\n",
    "coef['features']=xtrain.columns\n",
    "coef.head()"
   ]
  },
  {
   "cell_type": "markdown",
   "metadata": {},
   "source": [
    "# Applying DescisionTree Regressor"
   ]
  },
  {
   "cell_type": "code",
   "execution_count": 37,
   "metadata": {},
   "outputs": [
    {
     "data": {
      "text/plain": [
       "DecisionTreeRegressor()"
      ]
     },
     "execution_count": 37,
     "metadata": {},
     "output_type": "execute_result"
    }
   ],
   "source": [
    "from sklearn.tree import DecisionTreeRegressor\n",
    "dtree_mod=DecisionTreeRegressor()\n",
    "dtree_mod.fit(xtrain,ytrain)"
   ]
  },
  {
   "cell_type": "code",
   "execution_count": 38,
   "metadata": {},
   "outputs": [
    {
     "data": {
      "text/plain": [
       "array([ 4775., 14151.,  6144., ...,  7832.,  3419.,  4174.])"
      ]
     },
     "execution_count": 38,
     "metadata": {},
     "output_type": "execute_result"
    }
   ],
   "source": [
    "ypred=dtree_mod.predict(xtest)\n",
    "ypred"
   ]
  },
  {
   "cell_type": "code",
   "execution_count": 39,
   "metadata": {},
   "outputs": [
    {
     "data": {
      "text/plain": [
       "5764374.308055555"
      ]
     },
     "execution_count": 39,
     "metadata": {},
     "output_type": "execute_result"
    }
   ],
   "source": [
    "from sklearn.metrics import mean_squared_error\n",
    "mse=mean_squared_error(ytest,ypred)\n",
    "mse"
   ]
  },
  {
   "cell_type": "code",
   "execution_count": 40,
   "metadata": {},
   "outputs": [],
   "source": [
    "rmse=np.sqrt(mse)"
   ]
  },
  {
   "cell_type": "code",
   "execution_count": 41,
   "metadata": {},
   "outputs": [
    {
     "data": {
      "text/plain": [
       "2400.911141224422"
      ]
     },
     "execution_count": 41,
     "metadata": {},
     "output_type": "execute_result"
    }
   ],
   "source": [
    "rmse #RMSE for Decision Tree"
   ]
  },
  {
   "cell_type": "markdown",
   "metadata": {},
   "source": [
    "# Applying Random Forest Regressor"
   ]
  },
  {
   "cell_type": "code",
   "execution_count": 42,
   "metadata": {},
   "outputs": [],
   "source": [
    "from sklearn.ensemble import RandomForestRegressor\n",
    "rand_mod=RandomForestRegressor()"
   ]
  },
  {
   "cell_type": "code",
   "execution_count": 43,
   "metadata": {},
   "outputs": [
    {
     "data": {
      "text/plain": [
       "RandomForestRegressor()"
      ]
     },
     "execution_count": 43,
     "metadata": {},
     "output_type": "execute_result"
    }
   ],
   "source": [
    "rand_mod.fit(xtrain,ytrain)"
   ]
  },
  {
   "cell_type": "code",
   "execution_count": 44,
   "metadata": {},
   "outputs": [],
   "source": [
    "rf_ypred=rand_mod.predict(xtest)"
   ]
  },
  {
   "cell_type": "code",
   "execution_count": 45,
   "metadata": {},
   "outputs": [],
   "source": [
    "rf_mse=mean_squared_error(rf_ypred,ytest)"
   ]
  },
  {
   "cell_type": "code",
   "execution_count": 46,
   "metadata": {},
   "outputs": [],
   "source": [
    "rf_rmse=np.sqrt(rf_mse)"
   ]
  },
  {
   "cell_type": "code",
   "execution_count": 47,
   "metadata": {},
   "outputs": [
    {
     "data": {
      "text/plain": [
       "1756.3450890824547"
      ]
     },
     "execution_count": 47,
     "metadata": {},
     "output_type": "execute_result"
    }
   ],
   "source": [
    "rf_rmse #RMSE for random forset"
   ]
  },
  {
   "cell_type": "markdown",
   "metadata": {},
   "source": [
    "# Applying Adaboost Regressor "
   ]
  },
  {
   "cell_type": "code",
   "execution_count": 48,
   "metadata": {},
   "outputs": [
    {
     "data": {
      "text/plain": [
       "AdaBoostRegressor()"
      ]
     },
     "execution_count": 48,
     "metadata": {},
     "output_type": "execute_result"
    }
   ],
   "source": [
    "from sklearn.ensemble import AdaBoostRegressor\n",
    "ada_mod=AdaBoostRegressor()\n",
    "ada_mod.fit(xtrain,ytrain)"
   ]
  },
  {
   "cell_type": "code",
   "execution_count": 49,
   "metadata": {},
   "outputs": [],
   "source": [
    "ada_ypred=ada_mod.predict(xtest)"
   ]
  },
  {
   "cell_type": "code",
   "execution_count": 50,
   "metadata": {},
   "outputs": [],
   "source": [
    "ada_mse=mean_squared_error(ada_ypred,ytest)"
   ]
  },
  {
   "cell_type": "code",
   "execution_count": 51,
   "metadata": {},
   "outputs": [],
   "source": [
    "ada_rmse=np.sqrt(ada_mse)"
   ]
  },
  {
   "cell_type": "code",
   "execution_count": 52,
   "metadata": {},
   "outputs": [
    {
     "data": {
      "text/plain": [
       "3653.4691505747537"
      ]
     },
     "execution_count": 52,
     "metadata": {},
     "output_type": "execute_result"
    }
   ],
   "source": [
    "ada_rmse #RMSE for adaboost"
   ]
  }
 ],
 "metadata": {
  "kernelspec": {
   "display_name": "Python 3",
   "language": "python",
   "name": "python3"
  },
  "language_info": {
   "codemirror_mode": {
    "name": "ipython",
    "version": 3
   },
   "file_extension": ".py",
   "mimetype": "text/x-python",
   "name": "python",
   "nbconvert_exporter": "python",
   "pygments_lexer": "ipython3",
   "version": "3.8.5"
  }
 },
 "nbformat": 4,
 "nbformat_minor": 2
}
